{
 "cells": [
  {
   "cell_type": "markdown",
   "id": "f80582ca-b6c1-4f2b-bd58-c44d0dd33876",
   "metadata": {},
   "source": [
    "# Data Science Tools and Ecosystem"
   ]
  },
  {
   "cell_type": "markdown",
   "id": "943671a6-ccfa-47cf-a3d4-da4d9b2591f6",
   "metadata": {},
   "source": [
    "In this notebook, Data Science Tools and Ecosystem are summarized.\n",
    "\n",
    "**Objectives**\n",
    "- List of popular languages for Data Science\n",
    "- List of commonly used libraries for Data Science\n",
    "- List of Tools used in Data Science\n",
    "- Arithmetic expressions in Python\n",
    "\n",
    "## Author\n",
    "Raghu"
   ]
  },
  {
   "cell_type": "markdown",
   "id": "d58c74f7-4374-4db6-8e79-c8fa97a03ef8",
   "metadata": {},
   "source": [
    "Some of the popular languages that Data Scientists use are:\n",
    "1. Python\n",
    "2. R\n",
    "3. SQL\n",
    "4. Julia"
   ]
  },
  {
   "cell_type": "markdown",
   "id": "5d085588-1254-4fe1-b044-49e3a47251a7",
   "metadata": {},
   "source": [
    "Some of the commonly used libraries used by Data Scientists include:\n",
    "1. Pandas\n",
    "2. NumPy\n",
    "3. Scikit-learn\n",
    "4. Matplotlib\n",
    "5. Seaborn\n",
    "6. TensorFlowrFlow"
   ]
  },
  {
   "cell_type": "markdown",
   "id": "af26f8f2-fbbb-4037-a1ed-2a4d389a3edd",
   "metadata": {},
   "source": [
    "|Data Science Tools |\n",
    "|--------|\n",
    "|Jupyter Notebooks |\n",
    "|Google Colab |\n",
    "|TensorFlow |\n",
    "|Hadoop |\n"
   ]
  },
  {
   "cell_type": "markdown",
   "id": "dbf79762-be6d-416e-bea9-98bf89f17ced",
   "metadata": {},
   "source": [
    "### Below are a few examples of evaluating arithmetic expressions in Python"
   ]
  },
  {
   "cell_type": "code",
   "execution_count": 3,
   "id": "076a4bcf-75a6-4ac6-b19c-e57cff4f66b4",
   "metadata": {},
   "outputs": [
    {
     "data": {
      "text/plain": [
       "17"
      ]
     },
     "execution_count": 3,
     "metadata": {},
     "output_type": "execute_result"
    }
   ],
   "source": [
    "# This a simple arithmetic expression to mutiply then add integers\n",
    "(3*4)+5"
   ]
  },
  {
   "cell_type": "code",
   "execution_count": 5,
   "id": "a0bc9fad-d0e7-4a08-9b97-d5e2a942fe83",
   "metadata": {},
   "outputs": [
    {
     "name": "stdout",
     "output_type": "stream",
     "text": [
      "3.3333333333333335\n"
     ]
    }
   ],
   "source": [
    "# This will convert 200 minutes to hours by diving by 60\n",
    "min = 200\n",
    "hours = 200/60\n",
    "\n",
    "print(hours)"
   ]
  },
  {
   "cell_type": "code",
   "execution_count": null,
   "id": "943c999b-1d2f-4d99-8170-f9e12d8aeb62",
   "metadata": {},
   "outputs": [],
   "source": []
  }
 ],
 "metadata": {
  "kernelspec": {
   "display_name": "Python 3 (ipykernel)",
   "language": "python",
   "name": "python3"
  },
  "language_info": {
   "codemirror_mode": {
    "name": "ipython",
    "version": 3
   },
   "file_extension": ".py",
   "mimetype": "text/x-python",
   "name": "python",
   "nbconvert_exporter": "python",
   "pygments_lexer": "ipython3",
   "version": "3.11.8"
  }
 },
 "nbformat": 4,
 "nbformat_minor": 5
}
